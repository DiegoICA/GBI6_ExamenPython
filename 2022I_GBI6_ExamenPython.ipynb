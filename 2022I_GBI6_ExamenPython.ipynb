{
 "cells": [
  {
   "cell_type": "markdown",
   "id": "b7b928f1",
   "metadata": {},
   "source": [
    "<img src=\"https://upload.wikimedia.org/wikipedia/commons/d/de/Logotipo_Ikiam.png\" width=300 height=240 />\n",
    "\n",
    "# EXAMEN PARCIAL PYTHON\n",
    "    \n",
    "\n",
    "## GBI6-2021II: BIOINFORMÁTICA\n",
    "\n",
    "**Nombre:** Carranco Avila, Diego Israel\n",
    "\n",
    "**Cédula:** 1004720494\n",
    "\n",
    "**Semestre:** 6to Semestre\n",
    "\n",
    "**Carrera:** Biotecnología\n",
    "\n",
    "**Fecha:** 05-08-2022\n",
    "\n",
    "<table>\n",
    "  <tr>\n",
    "    <th>Procesador</th>\n",
    "    <th>RAM</th>\n",
    "    <th>Sistema operativo</th>\n",
    "  </tr>\n",
    "  <tr>\n",
    "    <td>Intel(R) Core(TM) i7-4770 @</td>\n",
    "    <td>8.00 GB</td>\n",
    "    <td>64 bits procesador x64</td>\n",
    "  </tr>\n",
    "</table>"
   ]
  },
  {
   "cell_type": "markdown",
   "id": "b5659829",
   "metadata": {},
   "source": [
    "## Ejercicio 1 [2 puntos]\n",
    "Cree el archivo ```miningscience.py``` con las siguientes dos funciones:\n",
    "    \n",
    "i. ```download_pubmed```: para descargar la data de PubMed utilizando el **ENTREZ** de Biopython. El parámetro de entrada para la función es el ```keyword```. \n",
    "    \n",
    "ii. ```map_science```: para su data replique el ejemplo de [MapOfScience](https://github.com/CSB-book/CSB/blob/master/regex/solutions/MapOfScience_solution.ipynb), donde los puntos resaltados son al menos 5 países\n",
    "\n",
    "iii *Cree un docstring para cada función.* \n",
    "\n",
    "Luego de crear las funciones, cargue el módulo ```miningscience``` como ```msc``` e **imprima docstring de cada función**.\n"
   ]
  },
  {
   "cell_type": "code",
   "execution_count": null,
   "id": "8800596c",
   "metadata": {},
   "outputs": [],
   "source": [
    "import miningscience as msc \n",
    "help(download_pubmed)\n",
    "help(science_plots)"
   ]
  },
  {
   "cell_type": "markdown",
   "id": "3d235897",
   "metadata": {},
   "source": [
    "\n",
    "## Ejercicio 2 [2 puntos]\n",
    "\n",
    "\n",
    "Utilice dos veces la función ```download_pubmed``` para: \n",
    "\n",
    "- Descargar la data, utilizando los keyword de su preferencia. \n",
    "- Guardar el archivo descargado en la carpeta ```data```.\n",
    "\n",
    "Para cada corrida, imprima lo siguiente: \n",
    "\n",
    "```python\n",
    "'El número artículos para KEYWORD es: XX' # Que se cargue con inserción de texto o valor que correspondea KEYWORD y XX\n",
    "```"
   ]
  },
  {
   "cell_type": "code",
   "execution_count": null,
   "id": "40ff0dae",
   "metadata": {},
   "outputs": [],
   "source": []
  },
  {
   "cell_type": "markdown",
   "id": "6c64a40f",
   "metadata": {},
   "source": [
    "## Ejercicio 3 [1.5 puntos]\n",
    "\n",
    "Utilice dos veces la función ```map_science``` para: \n",
    "\n",
    "- Visualizar un mapa para cada data descargada en el ejercicio 2.\n",
    "- Guardar los mapas en la carpeta ```img```"
   ]
  },
  {
   "cell_type": "markdown",
   "id": "99e6990b",
   "metadata": {},
   "source": [
    "## Ejercicio 4 [1 punto]\n",
    "\n",
    "**Interprete** los resultados de las figuras del **ejercicio 3**"
   ]
  },
  {
   "cell_type": "markdown",
   "id": "bfe89f90",
   "metadata": {},
   "source": [
    "## Ejercicio 5 [2 puntos]\n",
    "\n",
    "Para algún **gen de las enzimas que intervienen en la ruta metabolica de la gluconeogenesis** ([Lista de genes por tipología](https://www.genome.jp/pathway/map00010+C00068)), realice lo siguiente: \n",
    "\n",
    "1. Una búsqueda en la página del [NCBI nucleotide](https://www.ncbi.nlm.nih.gov/nucleotide/).\n",
    "\n",
    "2. Descargue el ```Accession List``` de su búsqueda y guarde en la carpeta ```data```.\n",
    "\n",
    "3. Cargue el ```Accession List``` en este notebook y haga una descarga de las secuencias de los **quince primeros** IDs de la accesión. \n",
    "\n",
    "4. Arme un árbol filogenético para los resultados del paso 3.\n",
    "\n",
    "5. Guarde su arbol filogénetico en la carpeta ```img```\n",
    "\n",
    "5. Interprete el árbol del paso 4. "
   ]
  },
  {
   "cell_type": "code",
   "execution_count": null,
   "id": "1fd815f2",
   "metadata": {},
   "outputs": [],
   "source": [
    "from Bio import Phylo\n",
    "from Bio import SeqIO\n",
    "from Bio import AlignIO\n",
    "from Bio.Phylo.TreeConstruction import DistanceCalculator\n",
    "from Bio.Phylo.TreeConstruction import DistanceTreeConstructor\n",
    "# se empieza a carga las funciones de biopython\n",
    "from Bio import Entrez\n",
    "import re\n",
    "import os \n",
    "from Bio.Align.Applications import ClustalwCommandline\n",
    "\n",
    "with open(\"sequence.seq\") as f:\n",
    "    data = f.readlines()[0:15]\n",
    "out_sequence = open(\"secuencias.fasta\", \"w\")\n",
    "for linea in data:  \n",
    "    Entrez.email=\"diego.carranco@est.ikiam.edu.ec\"\n",
    "    handle=Entrez.efetch(db=\"nucleotide\" ,id=linea ,rettype=\"fasta\", retmode=\"text\")\n",
    "    data=(handle.read())\n",
    "    out_sequence.write(data)\n",
    "out_sequence.close()"
   ]
  },
  {
   "cell_type": "code",
   "execution_count": null,
   "id": "5ffe06f2",
   "metadata": {},
   "outputs": [],
   "source": [
    "clustalw_exe = r\"C:\\Program Files (x86)\\ClustalW2\\clustalw2.exe\"\n",
    "clustalw_cline = ClustalwCommandline(clustalw_exe, infile = \"secuencias.fasta\")\n",
    "assert os.path.isfile(clustalw_exe), \"Clustal_W executable is missing or not found\"\n",
    "stdout, stderr = clustalw_cline()\n",
    "print(clustalw_cline)\n",
    "ClustalAlign = AlignIO.read(\"secuencias.aln\", \"clustal\")\n",
    "print(ClustalAlign)"
   ]
  },
  {
   "cell_type": "code",
   "execution_count": null,
   "id": "0996aeff",
   "metadata": {},
   "outputs": [],
   "source": [
    "from Bio import Phylo\n",
    "tree = Phylo.read(\"secuencias.dnd\", \"newick\")"
   ]
  },
  {
   "cell_type": "code",
   "execution_count": null,
   "id": "fbe328a8",
   "metadata": {},
   "outputs": [],
   "source": [
    "with open(\"secuencias.aln\",\"r\") as aln: \n",
    "    alignment = AlignIO.read(aln,\"clustal\")\n",
    "    \n",
    "from Bio.Phylo.TreeConstruction import DistanceCalculator \n",
    "calculator = DistanceCalculator('identity')\n",
    " \n",
    "distance_matrix = calculator.get_distance(alignment)\n",
    "\n",
    "\n",
    "from Bio.Phylo.TreeConstruction import DistanceTreeConstructor\n",
    "constructor = DistanceTreeConstructor(calculator)\n",
    "# Construir el arbol \n",
    "mic_tree = constructor.build_tree(alignment)\n",
    "mic_tree.rooted = True\n",
    "Phylo.write(mic_tree, \"tree.xml\", \"phyloxml\")\n",
    "\n",
    "mic_tree = Phylo.read(file=\"tree.xml\", format= \"phyloxml\")\n",
    "\n",
    "# Arbol elemental en Matplotlib\n",
    "import matplotlib\n",
    "import matplotlib.pyplot as plt\n",
    "#fig = Phylo.draw(cis_tree)\n",
    "\n",
    "fig = plt.figure(figsize=(30, 40), dpi=100) # create figure & set the size \n",
    "matplotlib.rc('font', size=30)              # fontsize of the leaf and node labels \n",
    "matplotlib.rc('xtick', labelsize=20)       # fontsize of the tick labels\n",
    "matplotlib.rc('ytick', labelsize=20)       # fontsize of the tick labels\n",
    "axes = fig.add_subplot(1, 1, 1)\n",
    "Phylo.draw(mic_tree, axes=axes)\n",
    "fig.savefig(\"img/mic_tree.jpg\")"
   ]
  },
  {
   "cell_type": "markdown",
   "id": "ede6cf7e",
   "metadata": {},
   "source": [
    "## Ejercicio 6 [1 punto]\n",
    "\n",
    "\n",
    "1. Cree en GitHub un repositorio de nombre ```GBI6_ExamenPython```. \n",
    "2. Cree un archivo ```Readme.md``` que debe tener lo siguiente:\n",
    "- Datos personales\n",
    "- Características del computador\n",
    "- Versión de Python/Anaconda y de cada uno de los módulos/paquetes y utilizados\n",
    "- Explicación de la data utilizada\n",
    "- Un diagrama de procesos del módulo ```miningscience```\n",
    "3. Asegurarse que su repositorio tiene las carpetas ```data``` e ```img``` con los archivos que ha ido guardando en las preguntas anteriores.  \n",
    "4. Realice al menos 1 control de la versión (commits) por cada ejercicio (del 1 al 5), con un mensaje que inicie como: \n",
    "\n",
    "```sh \n",
    "Carlitos Alimaña ha realizado el ejercicio 1  \n",
    "```\n",
    "```sh \n",
    "Carlitos Alimaña ha realizado el ejercicio 2\n",
    "```\n",
    "```sh \n",
    "...\n",
    "```\n"
   ]
  },
  {
   "cell_type": "code",
   "execution_count": null,
   "id": "caafd8d1",
   "metadata": {},
   "outputs": [],
   "source": []
  },
  {
   "cell_type": "markdown",
   "id": "0f644e06",
   "metadata": {},
   "source": []
  }
 ],
 "metadata": {
  "kernelspec": {
   "display_name": "Python 3 (ipykernel)",
   "language": "python",
   "name": "python3"
  },
  "language_info": {
   "codemirror_mode": {
    "name": "ipython",
    "version": 3
   },
   "file_extension": ".py",
   "mimetype": "text/x-python",
   "name": "python",
   "nbconvert_exporter": "python",
   "pygments_lexer": "ipython3",
   "version": "3.9.12"
  }
 },
 "nbformat": 4,
 "nbformat_minor": 5
}
